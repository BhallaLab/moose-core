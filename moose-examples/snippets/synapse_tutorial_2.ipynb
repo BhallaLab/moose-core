{
 "metadata": {
  "name": ""
 },
 "nbformat": 3,
 "nbformat_minor": 0,
 "worksheets": [
  {
   "cells": [
    {
     "cell_type": "code",
     "collapsed": false,
     "input": [
      "import moose"
     ],
     "language": "python",
     "metadata": {},
     "outputs": [],
     "prompt_number": 3
    },
    {
     "cell_type": "code",
     "collapsed": false,
     "input": [
      "size = 1024     # number of IntFire objects in a vec\n",
      "delayMin = 0    \n",
      "delayMax = 4\n",
      "Vmax = 1.0\n",
      "thresh = 0.8\n",
      "refractoryPeriod = 0.4\n",
      "connectionProbability = 0.1\n",
      "weightMax = 0.5\n"
     ],
     "language": "python",
     "metadata": {},
     "outputs": [],
     "prompt_number": 4
    },
    {
     "cell_type": "markdown",
     "metadata": {},
     "source": [
      "The above sets the constants we shall use in this example. Now we create a vector of IntFire elements of size `size`."
     ]
    },
    {
     "cell_type": "code",
     "collapsed": false,
     "input": [
      "net = moose.IntFire('/network', size)"
     ],
     "language": "python",
     "metadata": {},
     "outputs": [],
     "prompt_number": 5
    },
    {
     "cell_type": "markdown",
     "metadata": {},
     "source": [
      "This creates a `vec` of `IntFire`  elements of size 1024 and returns the first `element`, i.e. \"/network[0]\"."
     ]
    },
    {
     "cell_type": "code",
     "collapsed": false,
     "input": [
      "net == moose.element('/network[0]')"
     ],
     "language": "python",
     "metadata": {},
     "outputs": [
      {
       "metadata": {},
       "output_type": "pyout",
       "prompt_number": 6,
       "text": [
        "True"
       ]
      }
     ],
     "prompt_number": 6
    },
    {
     "cell_type": "markdown",
     "metadata": {},
     "source": [
      "You can access the underlying vector of elements using the `vec` field on any element. This is very useful for vectorized field access:"
     ]
    },
    {
     "cell_type": "code",
     "collapsed": false,
     "input": [
      "net.vec.bufferTime = [2 * delayMax] * size"
     ],
     "language": "python",
     "metadata": {},
     "outputs": [],
     "prompt_number": 7
    },
    {
     "cell_type": "markdown",
     "metadata": {},
     "source": [
      "The right part of the assigment creates a Python list of length `size` with each element set to `2 * delayMax`, which is 8.0. You can index into the `vec` to access individual elements' field:"
     ]
    },
    {
     "cell_type": "code",
     "collapsed": false,
     "input": [
      "print net.vec[1].bufferTime"
     ],
     "language": "python",
     "metadata": {},
     "outputs": [
      {
       "output_type": "stream",
       "stream": "stdout",
       "text": [
        "8.0\n"
       ]
      }
     ],
     "prompt_number": 8
    },
    {
     "cell_type": "markdown",
     "metadata": {},
     "source": [
      "`IntFire` class has an `ElementField` called `synapse`. It is just like a `vec` above in terms of field access, but by default its size is 0."
     ]
    },
    {
     "cell_type": "code",
     "collapsed": false,
     "input": [
      "print len(net.synapse)"
     ],
     "language": "python",
     "metadata": {},
     "outputs": [
      {
       "output_type": "stream",
       "stream": "stdout",
       "text": [
        "0\n"
       ]
      }
     ],
     "prompt_number": 9
    },
    {
     "cell_type": "markdown",
     "metadata": {},
     "source": [
      "To actually create synapses, you can explicitly assign the `num` field of this, or set the `numSynapses` field of the `IntFire` element. There are some functions which can implicitly set the size of the `ElementField`. Here is the implicit way:"
     ]
    },
    {
     "cell_type": "code",
     "collapsed": false,
     "input": [
      "synapse = moose.element('/network[0]/synapse')\n",
      "mid = moose.connect(net, 'spikeOut', synapse, 'addSpike', 'Sparse') # This creates a `Sparse` message from `spikeOut` source of net to `addSpike` destination on synapse."
     ],
     "language": "python",
     "metadata": {},
     "outputs": [],
     "prompt_number": 10
    },
    {
     "cell_type": "code",
     "collapsed": false,
     "input": [
      "msg = moose.element(mid)\n",
      "msg.setRandomConnectivity(connectionProbability, 5489)"
     ],
     "language": "python",
     "metadata": {},
     "outputs": [
      {
       "metadata": {},
       "output_type": "pyout",
       "prompt_number": 12,
       "text": [
        "True"
       ]
      }
     ],
     "prompt_number": 12
    },
    {
     "cell_type": "markdown",
     "metadata": {},
     "source": [
      "The above sets random connectivity in the sparse message. Now you can see what are the sizes of each synapse in each element of '/network'"
     ]
    },
    {
     "cell_type": "code",
     "collapsed": false,
     "input": [
      "for ii in range(10, 15):\n",
      "    el = moose.element(net.vec[ii])\n",
      "    print el.path, 'has', len(el.synapse), 'synaptic connections'"
     ],
     "language": "python",
     "metadata": {},
     "outputs": [
      {
       "output_type": "stream",
       "stream": "stdout",
       "text": [
        "/network[10] has 102 synaptic connections\n",
        "/network[11] has 107 synaptic connections\n",
        "/network[12] has 101 synaptic connections\n",
        "/network[13] has 109 synaptic connections\n",
        "/network[14] has 101 synaptic connections\n"
       ]
      }
     ],
     "prompt_number": 14
    },
    {
     "cell_type": "markdown",
     "metadata": {},
     "source": [
      "You can set the weight and delay fields of each synapse using various looping methods"
     ]
    },
    {
     "cell_type": "code",
     "collapsed": false,
     "input": [
      "import random # We need this for random number generation\n",
      "from numpy import random as nprand\n",
      "for item in net.vec:\n",
      "    neuron = moose.element(item) # You have to convert each entry of a `vec` into corresponding IntFire element in order to access class-specific fields\n",
      "    # Below is one (inefficient) way of setting the individual weights of the elements in 'synapse'\n",
      "    for ii in range(len(neuron.synapse)):\n",
      "        neuron.synapse[ii].weight = random.random() * weightMax\n",
      "    # This is a more efficient way - rhs of `=` is list comprehension in Python and rather fast\n",
      "    neuron.synapse.delay = [delayMin + random.random() * delayMax for ii in range(len(neuron.synapse))]\n",
      "    # An even faster way will be to use numpy.random.rand(size) which produces array of random numbers uniformly distributed between 0 and 1\n",
      "    neuron.synapse.delay = delayMin + nprand.rand(len(neuron.synapse)) * delayMax\n",
      "    "
     ],
     "language": "python",
     "metadata": {},
     "outputs": [],
     "prompt_number": 22
    },
    {
     "cell_type": "markdown",
     "metadata": {},
     "source": [
      "Now display the results, we use slice notation on `vec` to show the values of delay and weight for the first 5 elements in `/network`"
     ]
    },
    {
     "cell_type": "code",
     "collapsed": false,
     "input": [
      "for item in net.vec[:5]:\n",
      "    neuron = moose.element(item)\n",
      "    print 'Delays for synapses on ', neuron.path, ':', neuron.synapse.delay\n",
      "    print 'Weights for synapses on ', neuron.path, ':', neuron.synapse.weight"
     ],
     "language": "python",
     "metadata": {},
     "outputs": [
      {
       "output_type": "stream",
       "stream": "stdout",
       "text": [
        "Delays for synapses on  /network[0] : [ 2.16949827  2.87672892  0.55775816  1.5307453   1.2545798   3.08150047\n",
        "  1.69471445  1.72783837]\n",
        "Weights for synapses on  /network[0] : [ 0.01378044  0.16739938  0.18983276  0.36676815  0.1026694   0.40671933\n",
        "  0.01169365  0.2939791 ]\n",
        "Delays for synapses on  /network[1] : [ 0.66554382  0.69812038  3.84877248]\n",
        "Weights for synapses on  /network[1] : [ 0.32135398  0.2293562   0.35553433]\n",
        "Delays for synapses on  /network[2] : [ 2.84297188  3.64714918  3.59338126  2.01446565  1.1388517   1.91031348\n",
        "  3.82746114]\n",
        "Weights for synapses on  /network[2] : [ 0.12762092  0.06323899  0.00916775  0.11610243  0.04453261  0.46170508\n",
        "  0.30207453]\n",
        "Delays for synapses on  /network[3] : [ 3.14259038  1.73694338  1.9056121   1.96542664  1.11544011  2.55803099]\n",
        "Weights for synapses on  /network[3] : [ 0.30468313  0.04061773  0.18337534  0.47436774  0.04179184  0.30259949]\n",
        "Delays for synapses on  /network[4] : [ 1.08777299  1.71847959  3.5191226   3.84163071  3.84634335]\n",
        "Weights for synapses on  /network[4] : [ 0.29244741  0.10342571  0.3912255   0.02361261  0.27258286]\n"
       ]
      }
     ],
     "prompt_number": 25
    },
    {
     "cell_type": "code",
     "collapsed": false,
     "input": [],
     "language": "python",
     "metadata": {},
     "outputs": []
    }
   ],
   "metadata": {}
  }
 ]
}